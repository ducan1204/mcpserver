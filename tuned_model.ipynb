{
 "cells": [
  {
   "cell_type": "code",
   "execution_count": 1,
   "id": "29839fce",
   "metadata": {},
   "outputs": [
    {
     "name": "stderr",
     "output_type": "stream",
     "text": [
      "/home/suga/Desktop/Work/learn/local-mcp/py-mcp-server/venv/lib/python3.12/site-packages/tqdm/auto.py:21: TqdmWarning: IProgress not found. Please update jupyter and ipywidgets. See https://ipywidgets.readthedocs.io/en/stable/user_install.html\n",
      "  from .autonotebook import tqdm as notebook_tqdm\n"
     ]
    }
   ],
   "source": [
    "import google.generativeai as genai\n",
    "from google.generativeai import types\n",
    "\n",
    "# for models in genai.list_tuned_models():\n",
    "#   print(models)"
   ]
  },
  {
   "cell_type": "code",
   "execution_count": 31,
   "id": "109403e8",
   "metadata": {},
   "outputs": [
    {
     "name": "stdout",
     "output_type": "stream",
     "text": [
      "TunedModel(name='tunedModels/generate-num-7042',\n",
      "           source_model='models/gemini-1.5-flash-001-tuning',\n",
      "           base_model='models/gemini-1.5-flash-001-tuning',\n",
      "           display_name='',\n",
      "           description='This is my model.',\n",
      "           temperature=1.0,\n",
      "           top_p=0.95,\n",
      "           top_k=64,\n",
      "           state=<State.ACTIVE: 2>,\n",
      "           create_time=datetime.datetime(2025, 5, 30, 7, 4, 9, 707914, tzinfo=datetime.timezone.utc),\n",
      "           update_time=datetime.datetime(2025, 5, 30, 7, 20, 41, 191469, tzinfo=datetime.timezone.utc),\n",
      "           tuning_task=TuningTask(start_time=datetime.datetime(2025, 5, 30, 7, 4, 9, 787495, tzinfo=datetime.timezone.utc),\n",
      "                                  complete_time=datetime.datetime(2025, 5, 30, 7, 20, 41, 191469, tzinfo=datetime.timezone.utc),\n",
      "                                  snapshots=[...],\n",
      "                                  hyperparameters=Hyperparameters(epoch_count=100,\n",
      "                                                                  batch_size=4,\n",
      "                                                                  learning_rate=0.001)),\n",
      "           reader_project_numbers=[])\n",
      "TunedModel(name='tunedModels/santapocket-assistant-001',\n",
      "           source_model='models/gemini-1.5-flash-001-tuning',\n",
      "           base_model='models/gemini-1.5-flash-001-tuning',\n",
      "           display_name='',\n",
      "           description='',\n",
      "           temperature=1.0,\n",
      "           top_p=0.95,\n",
      "           top_k=64,\n",
      "           state=<State.ACTIVE: 2>,\n",
      "           create_time=datetime.datetime(2025, 5, 30, 7, 55, 52, 800910, tzinfo=datetime.timezone.utc),\n",
      "           update_time=datetime.datetime(2025, 5, 30, 8, 37, 22, 197420, tzinfo=datetime.timezone.utc),\n",
      "           tuning_task=TuningTask(start_time=datetime.datetime(2025, 5, 30, 7, 55, 53, 879105, tzinfo=datetime.timezone.utc),\n",
      "                                  complete_time=datetime.datetime(2025, 5, 30, 8, 37, 22, 197420, tzinfo=datetime.timezone.utc),\n",
      "                                  snapshots=[...],\n",
      "                                  hyperparameters=Hyperparameters(epoch_count=100,\n",
      "                                                                  batch_size=4,\n",
      "                                                                  learning_rate=0.001)),\n",
      "           reader_project_numbers=[])\n"
     ]
    }
   ],
   "source": [
    "for models in genai.list_tuned_models():\n",
    "  print(models)"
   ]
  },
  {
   "cell_type": "code",
   "execution_count": null,
   "id": "ceb695fe",
   "metadata": {},
   "outputs": [],
   "source": []
  },
  {
   "cell_type": "code",
   "execution_count": 3,
   "id": "da7415fd",
   "metadata": {},
   "outputs": [
    {
     "name": "stdout",
     "output_type": "stream",
     "text": [
      "Please visit this URL to authorize this application: https://accounts.google.com/o/oauth2/auth?response_type=code&client_id=288812625767-2vutudg5912lkdbb3k3r82io4aah641n.apps.googleusercontent.com&redirect_uri=http%3A%2F%2Flocalhost%3A43055%2F&scope=https%3A%2F%2Fwww.googleapis.com%2Fauth%2Fcloud-platform+https%3A%2F%2Fwww.googleapis.com%2Fauth%2Fgenerative-language.tuning&state=enQa0DOcPVH3yZBp2xmwF0lz9pAkLr&access_type=offline\n"
     ]
    }
   ],
   "source": [
    "from google_auth_oauthlib.flow import InstalledAppFlow\n",
    "from google.auth.transport.requests import Request\n",
    "\n",
    "# The scopes required for tuning and model management\n",
    "SCOPES = [\n",
    "    \"https://www.googleapis.com/auth/cloud-platform\",\n",
    "    \"https://www.googleapis.com/auth/generative-language.tuning\"\n",
    "]\n",
    "\n",
    "# Run the OAuth flow\n",
    "flow = InstalledAppFlow.from_client_secrets_file(\n",
    "    '/home/suga/Desktop/Work/learn/machinelearning/client_secret.json',  # Path to your downloaded OAuth credentials\n",
    "    scopes=SCOPES\n",
    ")\n",
    "credentials = flow.run_local_server(port=0)\n",
    "\n",
    "# Configure genai with OAuth credentials\n",
    "genai.configure(credentials=credentials)"
   ]
  },
  {
   "cell_type": "code",
   "execution_count": null,
   "id": "6e10ed75",
   "metadata": {},
   "outputs": [],
   "source": [
    "base_model = [\n",
    "    m for m in genai.list_models()\n",
    "    if \"createTunedModel\" in m.supported_generation_methods and \"flash\" in m.name\n",
    "    ][0]\n",
    "base_model"
   ]
  },
  {
   "cell_type": "code",
   "execution_count": null,
   "id": "2a57d3ca",
   "metadata": {},
   "outputs": [],
   "source": [
    "import random\n",
    "\n",
    "name = f'generate-num-{random.randint(0,10000)}'\n",
    "operation = genai.create_tuned_model(\n",
    "    # You can use a tuned model here too. Set `source_model=\"tunedModels/...\"`\n",
    "    source_model=base_model.name,\n",
    "    training_data=[\n",
    "        {\n",
    "             'text_input': '1',\n",
    "             'output': '2',\n",
    "        },{\n",
    "             'text_input': '3',\n",
    "             'output': '4',\n",
    "        },{\n",
    "             'text_input': '-3',\n",
    "             'output': '-2',\n",
    "        },{\n",
    "             'text_input': 'twenty two',\n",
    "             'output': 'twenty three',\n",
    "        },{\n",
    "             'text_input': 'two hundred',\n",
    "             'output': 'two hundred one',\n",
    "        },{\n",
    "             'text_input': 'ninety nine',\n",
    "             'output': 'one hundred',\n",
    "        },{\n",
    "             'text_input': '8',\n",
    "             'output': '9',\n",
    "        },{\n",
    "             'text_input': '-98',\n",
    "             'output': '-97',\n",
    "        },{\n",
    "             'text_input': '1,000',\n",
    "             'output': '1,001',\n",
    "        },{\n",
    "             'text_input': '10,100,000',\n",
    "             'output': '10,100,001',\n",
    "        },{\n",
    "             'text_input': 'thirteen',\n",
    "             'output': 'fourteen',\n",
    "        },{\n",
    "             'text_input': 'eighty',\n",
    "             'output': 'eighty one',\n",
    "        },{\n",
    "             'text_input': 'one',\n",
    "             'output': 'two',\n",
    "        },{\n",
    "             'text_input': 'three',\n",
    "             'output': 'four',\n",
    "        },{\n",
    "             'text_input': 'seven',\n",
    "             'output': 'eight',\n",
    "        }\n",
    "    ],\n",
    "    id = name,\n",
    "    epoch_count = 100,\n",
    "    batch_size=4,\n",
    "    learning_rate=0.001,\n",
    ")"
   ]
  },
  {
   "cell_type": "code",
   "execution_count": 6,
   "id": "a469b794",
   "metadata": {},
   "outputs": [
    {
     "data": {
      "text/plain": [
       "TunedModel(name='tunedModels/generate-num-7042',\n",
       "           source_model='models/gemini-1.5-flash-001-tuning',\n",
       "           base_model='models/gemini-1.5-flash-001-tuning',\n",
       "           display_name='',\n",
       "           description='',\n",
       "           temperature=1.0,\n",
       "           top_p=0.95,\n",
       "           top_k=64,\n",
       "           state=<State.CREATING: 1>,\n",
       "           create_time=datetime.datetime(2025, 5, 30, 7, 4, 9, 707914, tzinfo=datetime.timezone.utc),\n",
       "           update_time=datetime.datetime(2025, 5, 30, 7, 4, 9, 707914, tzinfo=datetime.timezone.utc),\n",
       "           tuning_task=TuningTask(start_time=datetime.datetime(2025, 5, 30, 7, 4, 9, 787495, tzinfo=datetime.timezone.utc),\n",
       "                                  complete_time=None,\n",
       "                                  snapshots=[],\n",
       "                                  hyperparameters=Hyperparameters(epoch_count=100,\n",
       "                                                                  batch_size=4,\n",
       "                                                                  learning_rate=0.001)),\n",
       "           reader_project_numbers=None)"
      ]
     },
     "execution_count": 6,
     "metadata": {},
     "output_type": "execute_result"
    }
   ],
   "source": [
    "\n",
    "model = genai.get_tuned_model(f'tunedModels/{name}')\n",
    "\n",
    "model\n",
    "     "
   ]
  },
  {
   "cell_type": "code",
   "execution_count": 7,
   "id": "ba811f7d",
   "metadata": {},
   "outputs": [
    {
     "data": {
      "text/plain": [
       "<State.CREATING: 1>"
      ]
     },
     "execution_count": 7,
     "metadata": {},
     "output_type": "execute_result"
    }
   ],
   "source": [
    "model.state"
   ]
  },
  {
   "cell_type": "code",
   "execution_count": 8,
   "id": "f157ccdf",
   "metadata": {},
   "outputs": [
    {
     "data": {
      "text/plain": [
       "total_steps: 375\n",
       "tuned_model: \"tunedModels/generate-num-7042\""
      ]
     },
     "execution_count": 8,
     "metadata": {},
     "output_type": "execute_result"
    }
   ],
   "source": [
    "operation.metadata"
   ]
  },
  {
   "cell_type": "code",
   "execution_count": 9,
   "id": "2813be80",
   "metadata": {},
   "outputs": [
    {
     "name": "stderr",
     "output_type": "stream",
     "text": [
      "100%|██████████| 375/375 [10:35<00:00,  1.69s/it]\n"
     ]
    }
   ],
   "source": [
    "import time\n",
    "for status in operation.wait_bar():\n",
    "    time.sleep(5)\n"
   ]
  },
  {
   "cell_type": "code",
   "execution_count": 10,
   "id": "9b5c18e6",
   "metadata": {},
   "outputs": [
    {
     "data": {
      "text/plain": [
       "<Axes: xlabel='epoch', ylabel='mean_loss'>"
      ]
     },
     "execution_count": 10,
     "metadata": {},
     "output_type": "execute_result"
    },
    {
     "data": {
      "image/png": "[encoded data removed]",
      "text/plain": [
       "<Figure size 640x480 with 1 Axes>"
      ]
     },
     "metadata": {},
     "output_type": "display_data"
    }
   ],
   "source": [
    "\n",
    "import pandas as pd\n",
    "import seaborn as sns\n",
    "\n",
    "model = operation.result()\n",
    "\n",
    "snapshots = pd.DataFrame(model.tuning_task.snapshots)\n",
    "\n",
    "sns.lineplot(data=snapshots, x = 'epoch', y='mean_loss')"
   ]
  },
  {
   "cell_type": "code",
   "execution_count": 11,
   "id": "9a06aa21",
   "metadata": {},
   "outputs": [],
   "source": [
    "\n",
    "model = genai.GenerativeModel(model_name=f'tunedModels/{name}')"
   ]
  },
  {
   "cell_type": "code",
   "execution_count": 12,
   "id": "5bc8335e",
   "metadata": {},
   "outputs": [
    {
     "data": {
      "text/plain": [
       "'56'"
      ]
     },
     "execution_count": 12,
     "metadata": {},
     "output_type": "execute_result"
    }
   ],
   "source": [
    "result = model.generate_content('55')\n",
    "result.text"
   ]
  },
  {
   "cell_type": "code",
   "execution_count": 14,
   "id": "03fd012f",
   "metadata": {},
   "outputs": [
    {
     "data": {
      "text/plain": [
       "TunedModel(name=None,\n",
       "           source_model=None,\n",
       "           base_model=None,\n",
       "           display_name='',\n",
       "           description='This is my model.',\n",
       "           temperature=None,\n",
       "           top_p=None,\n",
       "           top_k=None,\n",
       "           state=<State.STATE_UNSPECIFIED: 0>,\n",
       "           create_time=None,\n",
       "           update_time=None,\n",
       "           tuning_task=None,\n",
       "           reader_project_numbers=None)"
      ]
     },
     "execution_count": 14,
     "metadata": {},
     "output_type": "execute_result"
    }
   ],
   "source": [
    "\n",
    "genai.update_tuned_model(f'tunedModels/{name}', {\"description\":\"This is my model.\"})"
   ]
  },
  {
   "cell_type": "code",
   "execution_count": 15,
   "id": "8647c0a7",
   "metadata": {},
   "outputs": [
    {
     "data": {
      "text/plain": [
       "'This is my model.'"
      ]
     },
     "execution_count": 15,
     "metadata": {},
     "output_type": "execute_result"
    }
   ],
   "source": [
    "model = genai.get_tuned_model(f'tunedModels/{name}')\n",
    "\n",
    "model.description"
   ]
  },
  {
   "cell_type": "code",
   "execution_count": null,
   "id": "73afb37e",
   "metadata": {},
   "outputs": [],
   "source": [
    "\n",
    "# genai.delete_tuned_model(f'tunedModels/{name}')"
   ]
  },
  {
   "cell_type": "code",
   "execution_count": 25,
   "id": "4a0731c8",
   "metadata": {},
   "outputs": [
    {
     "name": "stdout",
     "output_type": "stream",
     "text": [
      "33\n"
     ]
    }
   ],
   "source": [
    "import pandas as pd\n",
    "\n",
    "df = pd.read_csv('./santa-finetune-dataset.csv', delimiter='|', on_bad_lines='warn')\n",
    "\n",
    "training_data_santa = [\n",
    "    {'text_input': row['input'], 'output': row['output']}\n",
    "    for _, row in df.iterrows()\n",
    "]\n",
    "print(len(training_data_santa))"
   ]
  },
  {
   "cell_type": "code",
   "execution_count": 26,
   "id": "59fafce3",
   "metadata": {},
   "outputs": [],
   "source": [
    "santaname = f'santapocket-assistant-001'\n",
    "operationsanta = genai.create_tuned_model(\n",
    "    # You can use a tuned model here too. Set `source_model=\"tunedModels/...\"`\n",
    "    source_model=base_model.name,\n",
    "    training_data=training_data_santa,\n",
    "    id = santaname,\n",
    "    epoch_count = 100,\n",
    "    batch_size=4,\n",
    "    learning_rate=0.001,\n",
    ")"
   ]
  },
  {
   "cell_type": "code",
   "execution_count": 27,
   "id": "fef09add",
   "metadata": {},
   "outputs": [
    {
     "data": {
      "text/plain": [
       "TunedModel(name='tunedModels/santapocket-assistant-001',\n",
       "           source_model='models/gemini-1.5-flash-001-tuning',\n",
       "           base_model='models/gemini-1.5-flash-001-tuning',\n",
       "           display_name='',\n",
       "           description='',\n",
       "           temperature=1.0,\n",
       "           top_p=0.95,\n",
       "           top_k=64,\n",
       "           state=<State.CREATING: 1>,\n",
       "           create_time=datetime.datetime(2025, 5, 30, 7, 55, 52, 800910, tzinfo=datetime.timezone.utc),\n",
       "           update_time=datetime.datetime(2025, 5, 30, 7, 58, 56, 297990, tzinfo=datetime.timezone.utc),\n",
       "           tuning_task=TuningTask(start_time=datetime.datetime(2025, 5, 30, 7, 55, 53, 879105, tzinfo=datetime.timezone.utc),\n",
       "                                  complete_time=None,\n",
       "                                  snapshots=[...],\n",
       "                                  hyperparameters=Hyperparameters(epoch_count=100,\n",
       "                                                                  batch_size=4,\n",
       "                                                                  learning_rate=0.001)),\n",
       "           reader_project_numbers=None)"
      ]
     },
     "execution_count": 27,
     "metadata": {},
     "output_type": "execute_result"
    }
   ],
   "source": [
    "santamodel = genai.get_tuned_model(f'tunedModels/{santaname}')\n",
    "\n",
    "santamodel"
   ]
  },
  {
   "cell_type": "code",
   "execution_count": 28,
   "id": "2c5f0d99",
   "metadata": {},
   "outputs": [
    {
     "data": {
      "text/plain": [
       "total_steps: 825\n",
       "tuned_model: \"tunedModels/santapocket-assistant-001\""
      ]
     },
     "execution_count": 28,
     "metadata": {},
     "output_type": "execute_result"
    }
   ],
   "source": [
    "operationsanta.metadata"
   ]
  },
  {
   "cell_type": "code",
   "execution_count": 33,
   "id": "4f14fa5f",
   "metadata": {},
   "outputs": [
    {
     "data": {
      "text/plain": [
       "<State.CREATING: 1>"
      ]
     },
     "execution_count": 33,
     "metadata": {},
     "output_type": "execute_result"
    }
   ],
   "source": [
    "santamodel.state"
   ]
  },
  {
   "cell_type": "code",
   "execution_count": 30,
   "id": "7ac75391",
   "metadata": {},
   "outputs": [
    {
     "name": "stderr",
     "output_type": "stream",
     "text": [
      "100%|██████████| 825/825 [37:07<00:00,  2.70s/it]\n"
     ]
    }
   ],
   "source": [
    "for status in operationsanta.wait_bar():\n",
    "    time.sleep(5)"
   ]
  },
  {
   "cell_type": "code",
   "execution_count": 34,
   "id": "8023a5d6",
   "metadata": {},
   "outputs": [],
   "source": [
    "model = genai.GenerativeModel(model_name=f'tunedModels/{santaname}')"
   ]
  },
  {
   "cell_type": "code",
   "execution_count": null,
   "id": "1f0b522c",
   "metadata": {},
   "outputs": [
    {
     "data": {
      "text/plain": [
       "'Để nạp tiền vào ví SantaPocket qua Momo, người dùng có thể thực hiện theo các bước sau: 1. Mở ứng dụng Momo, chọn “Chuyển tiền”. 2. Nhập số điện thoại người nhận (theo cú pháp: 0974.xxxx.xxxx) → Nhập số tiền → Chọn “Tiếp tục”. 3. Kiểm tra thông tin thanh toán → Chọn phương thức thanh toán → Chọn “Xác nhận”. 4. Nhập mã OTP → Hoàn thành nạp tiền. Lưu ý: Người dùng cần đăng ký tài khoản SantaPocket trước khi thực hiện quy trình nạp tiền. **Cách đăng ký tài khoản mới:** 1. Mở ứng dụng SantaPocket, chọn “Đăng ký”. 2. Nhập số điện thoại di động → Chọn \"Gửi mã OTP\". 3. Nhập mã OTP → Chọn \"Đăng ký\". 4. Hoàn thành đăng ký tài khoản mới. \"**SantaPocket, giải pháp giao nhận hàng hóa thông minh.**\"'"
      ]
     },
     "execution_count": 43,
     "metadata": {},
     "output_type": "execute_result"
    }
   ],
   "source": [
    "result = model.generate_content('santapocket là gì')\n",
    "result.text"
   ]
  }
 ],
 "metadata": {
  "kernelspec": {
   "display_name": "venv",
   "language": "python",
   "name": "python3"
  },
  "language_info": {
   "codemirror_mode": {
    "name": "ipython",
    "version": 3
   },
   "file_extension": ".py",
   "mimetype": "text/x-python",
   "name": "python",
   "nbconvert_exporter": "python",
   "pygments_lexer": "ipython3",
   "version": "3.12.3"
  }
 },
 "nbformat": 4,
 "nbformat_minor": 5
}
